{
 "cells": [
  {
   "cell_type": "markdown",
   "metadata": {
    "internals": {
     "slide_helper": "subslide_end",
     "slide_type": "subslide"
    },
    "slide_helper": "slide_end",
    "slideshow": {
     "slide_type": "slide"
    }
   },
   "source": [
    "% 計算機実習 問題6.6 - ファイゲンバウム定数の評価\n",
    "% 藤本將太郎\n",
    "% October 1, 2014"
   ]
  },
  {
   "cell_type": "markdown",
   "metadata": {
    "internals": {
     "slide_helper": "subslide_end",
     "slide_type": "subslide"
    },
    "slide_helper": "slide_end",
    "slideshow": {
     "slide_type": "slide"
    }
   },
   "source": [
    "# 計算機実習 問題6.6 - ファイゲンバウム定数の評価"
   ]
  },
  {
   "cell_type": "markdown",
   "metadata": {
    "internals": {
     "slide_helper": "subslide_end",
     "slide_type": "subslide"
    },
    "slide_helper": "slide_end",
    "slideshow": {
     "slide_type": "slide"
    }
   },
   "source": [
    "## シミュレーションの目的"
   ]
  },
  {
   "cell_type": "markdown",
   "metadata": {
    "internals": {
     "slide_helper": "subslide_end",
     "slide_type": "subslide"
    },
    "slide_helper": "slide_end",
    "slideshow": {
     "slide_type": "slide"
    }
   },
   "source": [
    "すでに問題6.2で見たように、隣り合う分岐の間の$r$の領域は周期の増大にしたがって小さくなる(表1)。例えば、$b_{2}-b_{1}=0.2398$、$b_{3}-b_{2}=0.023624$、$b_{4}-b_{3}=0.00508$となっているので、$b_{k}-b_{k-1}$が等比的、つまり一定の比$(b_{k}-b_{k-1})/(b_{k+1}-b_{k})$で減少すると推定してよいであろう。この比は正確に一定にはならないが、$k$が大きくなるとともに一定値に近づくことを確かめることができる。これは$b_{k}$の数列には極限があり、\n",
    "\n",
    "\\begin{equation}\n",
    "  b_{k} \\approx r_{\\infty} -c \\delta ^{-k}\\ \\ \\ (cは定数)\n",
    "\\end{equation}\n",
    "\n",
    "のように等比的に漸近すると考えられる。ここで$\\delta$はファイゲンバウム(Feigenbaum)定数と呼ばれている。式(\\ref{eq:e1})から$\\delta$は比\n",
    "\n",
    "\\begin{equation}\n",
    " \\delta = \\lim_{k \\rightarrow \\infty} \\displaystyle\\frac{b_{k}-b_{k-1}}{b_{k+1}-b_{k}}\n",
    "\\end{equation}\n",
    "\n",
    "で与えられる。\n",
    "\n",
    "__表1. $k$番目の分岐が生じる点における制御パラメータ$b_{k}$の値__\n",
    "\n",
    "| $k$  |  $b_{k}$ |  \n",
    "|:----:|:--------:|\n",
    "|  1 | 0.750 000 |\n",
    "|  2 | 0.862 372 |\n",
    "|  3 | 0.886 023 |\n",
    "|  4 | 0.891 102 |\n",
    "|  5 | 0.892 100 |\n",
    "|  6 | 0.892 423 |\n",
    "|  7 | 0.892 473 |\n",
    "|  8 | 0.892 484 |\n"
   ]
  },
  {
   "cell_type": "markdown",
   "metadata": {
    "internals": {
     "slide_helper": "subslide_end",
     "slide_type": "subslide"
    },
    "slide_helper": "subslide_end",
    "slideshow": {
     "slide_type": "slide"
    }
   },
   "source": [
    "## 実習課題"
   ]
  },
  {
   "cell_type": "markdown",
   "metadata": {
    "internals": {
     "slide_type": "subslide"
    },
    "slideshow": {
     "slide_type": "subslide"
    }
   },
   "source": [
    "### 問題a："
   ]
  },
  {
   "cell_type": "markdown",
   "metadata": {
    "internals": {
     "frag_number": 6,
     "slide_helper": "subslide_end"
    },
    "slide_helper": "subslide_end",
    "slideshow": {
     "slide_type": "fragment"
    }
   },
   "source": [
    "作成したプログラムを使って、$\\delta_{k}=(b_{k}-b_{k-1})/(b_{k+1}-b_{k})$を$k$に対してプロットし、$\\delta$を求めよ。$b_{k}$の表(1)に与えられた値の桁数はどの$k$についても十分か。最も精度よく求められている$\\delta$の値は\n",
    " \n",
    " \\begin{equation}\n",
    "  \\delta = 4.669\\ 201\\ 609\\ 102\\ 991 \\cdots\n",
    "  \\label{eq:e2}\n",
    " \\end{equation}\n",
    "\n",
    " である。式(\\ref{eq:e2})の小数点以下の桁は、$\\delta$が高い精度で求められていることを示している。式(\\ref{eq:e1})、式(\\ref{eq:e2})および$b_{k}$の値を使って$r_{\\infty}$の値を求めよ。"
   ]
  },
  {
   "cell_type": "markdown",
   "metadata": {
    "internals": {
     "frag_helper": "fragment_end",
     "frag_number": 6,
     "slide_type": "subslide"
    },
    "slideshow": {
     "slide_type": "subslide"
    }
   },
   "source": [
    "まず、$\\delta_{k}=(b_{k}-b_{k-1})/(b_{k+1}-b_{k})$を$k$に対してプロットした。ここで単純に全体の相加平均を求め、その結果を直線にしてグラフに描いた。"
   ]
  },
  {
   "cell_type": "code",
   "execution_count": 5,
   "metadata": {
    "collapsed": false,
    "internals": {
     "frag_helper": "fragment_end",
     "frag_number": 6
    },
    "slideshow": {
     "slide_type": "-"
    }
   },
   "outputs": [
    {
     "data": {
      "image/png": "[encoded data removed]",
      "text/plain": [
       "<matplotlib.figure.Figure at 0x7f0edb75b150>"
      ]
     },
     "metadata": {},
     "output_type": "display_data"
    }
   ],
   "source": [
    "%matplotlib inline\n",
    "import matplotlib.pylab as plt\n",
    "import numpy\n",
    "\n",
    "b = [0.750000, 0.862372, 0.886023, 0.891102,\n",
    "     0.892190, 0.892423, 0.892473, 0.892484]\n",
    "#      b1         b2        b3        b4\n",
    "#      b5         b6        b7        b8\n",
    "\n",
    "def delta(k):\n",
    "    return (b[k - 1] - b[k - 2]) / (b[k] - b[k - 1])\n",
    "\n",
    "plt.gca().set_xlim(1.5, len(b) - 0.5)\n",
    "plt.xlabel(r'$k$')\n",
    "plt.ylabel(r'$\\delta_{k}$')\n",
    "plt.title('Feigenbaum constant')\n",
    "sum_delta_k = 0\n",
    "\n",
    "for k in range(2, len(b)):\n",
    "    plt.scatter(k, delta(k), color='r', s=8, marker='o')\n",
    "    sum_delta_k = sum_delta_k + delta(k)\n",
    "\n",
    "ave_delta_k = sum_delta_k / 6\n",
    "\n",
    "plt.plot([2, len(b) - 1], [ave_delta_k] * 2,\n",
    "         label=r'$\\mathrm{average}\\ \\mathrm{of}\\ \\delta_{k}\\ :\\ \\delta \\ =\\ $'\n",
    "         + str(ave_delta_k)\n",
    "         )\n",
    "\n",
    "plt.legend(loc=\"best\")\n",
    "plt.show()"
   ]
  },
  {
   "cell_type": "markdown",
   "metadata": {
    "internals": {
     "frag_helper": "fragment_end",
     "frag_number": 9,
     "slide_helper": "subslide_end"
    },
    "slide_helper": "subslide_end",
    "slideshow": {
     "slide_type": "fragment"
    }
   },
   "source": [
    "表(1)に与えられた$b_{k}$の桁数について、$b_{k}$の間隔が$k$が大きくなるにつれて減少していくことを考えると、$b_{8}$の桁数などは十分であるとは言えないだろう。実際、平均値として得られた$\\delta$が、精度よく求められている$\\delta$の値に近いのに対して、本来$k$が大きいところでは収束するはずの$\\delta_{k}$が、そこからずれた値となっていることも、$b_{8}$などの桁数が不足していることを表していると言える。"
   ]
  },
  {
   "cell_type": "markdown",
   "metadata": {
    "internals": {
     "frag_helper": "fragment_end",
     "frag_number": 9,
     "slide_type": "subslide"
    },
    "slideshow": {
     "slide_type": "subslide"
    }
   },
   "source": [
    "次に、最小2乗法により式(1)におけるパラメータ$c$、$r_{\\infty}$を求めた。"
   ]
  },
  {
   "cell_type": "code",
   "execution_count": 4,
   "metadata": {
    "collapsed": false,
    "internals": {
     "frag_helper": "fragment_end",
     "frag_number": 9
    },
    "slideshow": {
     "slide_type": "-"
    }
   },
   "outputs": [
    {
     "name": "stdout",
     "output_type": "stream",
     "text": [
      "c = 0.665237682254\n",
      "r_infinity = 0.892546164091\n"
     ]
    }
   ],
   "source": [
    "import scipy.optimize as optimize\n",
    "from numpy import *\n",
    "\n",
    "delta = 4.669201609102991\n",
    "b=[0.750000, 0.862372, 0.886023, 0.891102,\n",
    "    0.892190, 0.892423, 0.892473, 0.892484]\n",
    "k = range(1, len(b)+1)\n",
    "#b = [0.886023, 0.891102, 0.892190, 0.892423]\n",
    "#k = range(3, 7)\n",
    "parameter0 = [1.0, 1.0]  # c, r_m　初期値\n",
    "\n",
    "def fit_func(parameter0, k, b):\n",
    "    c = parameter0[0]\n",
    "    r_infinity = parameter0[1]\n",
    "    residual = b - (r_infinity - c * delta ** (-k))\n",
    "    return residual\n",
    "\n",
    "result = optimize.leastsq(fit_func, parameter0, args=(array(k), array(b)))\n",
    "\n",
    "print 'c =', result[0][0]\n",
    "print 'r_infinity =', result[0][1]"
   ]
  },
  {
   "cell_type": "markdown",
   "metadata": {
    "internals": {
     "frag_helper": "fragment_end",
     "frag_number": 12,
     "slide_helper": "subslide_end"
    },
    "slide_helper": "slide_end",
    "slideshow": {
     "slide_type": "fragment"
    }
   },
   "source": [
    "ここで、得られた値$r_{\\infty}=0.892 546 164 091$は非常に正確に調べられていて、その値は$r_{\\infty}=0.892 486 417 967 \\cdots$である。すなわち、得られた$r_{\\infty}$はよく知られている値に対してわずか約0.007％の誤差で精度よく求めることができていることがわかる。"
   ]
  },
  {
   "cell_type": "markdown",
   "metadata": {
    "internals": {
     "frag_helper": "fragment_end",
     "frag_number": 12,
     "slide_type": "subslide"
    },
    "slideshow": {
     "slide_type": "slide"
    }
   },
   "source": [
    "## まとめ"
   ]
  },
  {
   "cell_type": "markdown",
   "metadata": {
    "internals": {
     "frag_helper": "fragment_end",
     "frag_number": 14,
     "slide_helper": "subslide_end"
    },
    "slide_helper": "slide_end",
    "slideshow": {
     "slide_type": "fragment"
    }
   },
   "source": [
    "ファイゲンバウム定数の算出を行い、その普遍的性質への理解を深めることができた。"
   ]
  },
  {
   "cell_type": "markdown",
   "metadata": {
    "internals": {
     "frag_helper": "fragment_end",
     "frag_number": 14,
     "slide_type": "subslide"
    },
    "slideshow": {
     "slide_type": "slide"
    }
   },
   "source": [
    "## 参考文献"
   ]
  },
  {
   "cell_type": "markdown",
   "metadata": {
    "internals": {
     "frag_helper": "fragment_end",
     "frag_number": 16,
     "slide_helper": "subslide_end"
    },
    "slide_helper": "slide_end",
    "slideshow": {
     "slide_type": "fragment"
    }
   },
   "source": [
    "- ハーベイ・ゴールド,ジャン・トボチニク,石川正勝・宮島佐介訳『計算物理学入門』,ピアソン・エデュケーション, 2000."
   ]
  }
 ],
 "metadata": {
  "kernelspec": {
   "display_name": "Python 2",
   "language": "python",
   "name": "python2"
  },
  "language_info": {
   "codemirror_mode": {
    "name": "ipython",
    "version": 2
   },
   "file_extension": ".py",
   "mimetype": "text/x-python",
   "name": "python",
   "nbconvert_exporter": "python",
   "pygments_lexer": "ipython2",
   "version": "2.7.6"
  }
 },
 "nbformat": 4,
 "nbformat_minor": 0
}
