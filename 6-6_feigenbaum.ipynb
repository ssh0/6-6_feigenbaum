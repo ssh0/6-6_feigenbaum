{
 "metadata": {
  "kernelspec": {
   "codemirror_mode": {
    "name": "ipython",
    "version": 2
   },
   "display_name": "IPython (Python 2)",
   "language": "python",
   "name": "python2"
  },
  "name": "",
  "signature": "sha256:baab40bc79a304b0ad52ef771af6e06ad0a4438fb40753131c8a83515601f71e"
 },
 "nbformat": 3,
 "nbformat_minor": 0,
 "worksheets": [
  {
   "cells": [
    {
     "cell_type": "markdown",
     "metadata": {
      "internals": {
       "slide_helper": "subslide_end",
       "slide_type": "subslide"
      },
      "slide_helper": "slide_end",
      "slideshow": {
       "slide_type": "slide"
      }
     },
     "source": [
      "% \u8a08\u7b97\u6a5f\u5b9f\u7fd2 \u554f\u984c6.6 - \u30d5\u30a1\u30a4\u30b2\u30f3\u30d0\u30a6\u30e0\u5b9a\u6570\u306e\u8a55\u4fa1\n",
      "% \u85e4\u672c\u5c07\u592a\u90ce\n",
      "% October 1, 2014"
     ]
    },
    {
     "cell_type": "heading",
     "level": 1,
     "metadata": {
      "internals": {
       "slide_helper": "subslide_end",
       "slide_type": "subslide"
      },
      "slide_helper": "slide_end",
      "slideshow": {
       "slide_type": "slide"
      }
     },
     "source": [
      "\u8a08\u7b97\u6a5f\u5b9f\u7fd2 \u554f\u984c6.6 - \u30d5\u30a1\u30a4\u30b2\u30f3\u30d0\u30a6\u30e0\u5b9a\u6570\u306e\u8a55\u4fa1"
     ]
    },
    {
     "cell_type": "heading",
     "level": 2,
     "metadata": {
      "internals": {
       "slide_helper": "subslide_end",
       "slide_type": "subslide"
      },
      "slide_helper": "slide_end",
      "slideshow": {
       "slide_type": "slide"
      }
     },
     "source": [
      "\u30b7\u30df\u30e5\u30ec\u30fc\u30b7\u30e7\u30f3\u306e\u76ee\u7684"
     ]
    },
    {
     "cell_type": "markdown",
     "metadata": {
      "internals": {
       "slide_helper": "subslide_end",
       "slide_type": "subslide"
      },
      "slide_helper": "slide_end",
      "slideshow": {
       "slide_type": "slide"
      }
     },
     "source": [
      "\u3059\u3067\u306b\u554f\u984c6.2\u3067\u898b\u305f\u3088\u3046\u306b\u3001\u96a3\u308a\u5408\u3046\u5206\u5c90\u306e\u9593\u306e$r$\u306e\u9818\u57df\u306f\u5468\u671f\u306e\u5897\u5927\u306b\u3057\u305f\u304c\u3063\u3066\u5c0f\u3055\u304f\u306a\u308b(\u88681)\u3002\u4f8b\u3048\u3070\u3001$b_{2}-b_{1}=0.2398$\u3001$b_{3}-b_{2}=0.023624$\u3001$b_{4}-b_{3}=0.00508$\u3068\u306a\u3063\u3066\u3044\u308b\u306e\u3067\u3001$b_{k}-b_{k-1}$\u304c\u7b49\u6bd4\u7684\u3001\u3064\u307e\u308a\u4e00\u5b9a\u306e\u6bd4$(b_{k}-b_{k-1})/(b_{k+1}-b_{k})$\u3067\u6e1b\u5c11\u3059\u308b\u3068\u63a8\u5b9a\u3057\u3066\u3088\u3044\u3067\u3042\u308d\u3046\u3002\u3053\u306e\u6bd4\u306f\u6b63\u78ba\u306b\u4e00\u5b9a\u306b\u306f\u306a\u3089\u306a\u3044\u304c\u3001$k$\u304c\u5927\u304d\u304f\u306a\u308b\u3068\u3068\u3082\u306b\u4e00\u5b9a\u5024\u306b\u8fd1\u3065\u304f\u3053\u3068\u3092\u78ba\u304b\u3081\u308b\u3053\u3068\u304c\u3067\u304d\u308b\u3002\u3053\u308c\u306f$b_{k}$\u306e\u6570\u5217\u306b\u306f\u6975\u9650\u304c\u3042\u308a\u3001\n",
      "\n",
      "\\begin{equation}\n",
      "  b_{k} \\approx r_{\\infty} -c \\delta ^{-k}\\ \\ \\ (c\u306f\u5b9a\u6570)\n",
      "\\end{equation}\n",
      "\n",
      "\u306e\u3088\u3046\u306b\u7b49\u6bd4\u7684\u306b\u6f38\u8fd1\u3059\u308b\u3068\u8003\u3048\u3089\u308c\u308b\u3002\u3053\u3053\u3067$\\delta$\u306f\u30d5\u30a1\u30a4\u30b2\u30f3\u30d0\u30a6\u30e0(Feigenbaum)\u5b9a\u6570\u3068\u547c\u3070\u308c\u3066\u3044\u308b\u3002\u5f0f(\\ref{eq:e1})\u304b\u3089$\\delta$\u306f\u6bd4\n",
      "\n",
      "\\begin{equation}\n",
      " \\delta = \\lim_{k \\rightarrow \\infty} \\displaystyle\\frac{b_{k}-b_{k-1}}{b_{k+1}-b_{k}}\n",
      "\\end{equation}\n",
      "\n",
      "\u3067\u4e0e\u3048\u3089\u308c\u308b\u3002\n",
      "\n",
      "__\u88681. $k$\u756a\u76ee\u306e\u5206\u5c90\u304c\u751f\u3058\u308b\u70b9\u306b\u304a\u3051\u308b\u5236\u5fa1\u30d1\u30e9\u30e1\u30fc\u30bf$b_{k}$\u306e\u5024__\n",
      "\n",
      "| $k$  |  $b_{k}$ |  \n",
      "|:----:|:--------:|\n",
      "|  1 | 0.750 000 |\n",
      "|  2 | 0.862 372 |\n",
      "|  3 | 0.886 023 |\n",
      "|  4 | 0.891 102 |\n",
      "|  5 | 0.892 100 |\n",
      "|  6 | 0.892 423 |\n",
      "|  7 | 0.892 473 |\n",
      "|  8 | 0.892 484 |\n"
     ]
    },
    {
     "cell_type": "heading",
     "level": 2,
     "metadata": {
      "internals": {
       "slide_helper": "subslide_end",
       "slide_type": "subslide"
      },
      "slide_helper": "subslide_end",
      "slideshow": {
       "slide_type": "slide"
      }
     },
     "source": [
      "\u5b9f\u7fd2\u8ab2\u984c"
     ]
    },
    {
     "cell_type": "heading",
     "level": 3,
     "metadata": {
      "internals": {
       "slide_type": "subslide"
      },
      "slideshow": {
       "slide_type": "subslide"
      }
     },
     "source": [
      "\u554f\u984ca\uff1a"
     ]
    },
    {
     "cell_type": "markdown",
     "metadata": {
      "internals": {
       "frag_number": 6,
       "slide_helper": "subslide_end"
      },
      "slide_helper": "subslide_end",
      "slideshow": {
       "slide_type": "fragment"
      }
     },
     "source": [
      "\u4f5c\u6210\u3057\u305f\u30d7\u30ed\u30b0\u30e9\u30e0\u3092\u4f7f\u3063\u3066\u3001$\\delta_{k}=(b_{k}-b_{k-1})/(b_{k+1}-b_{k})$\u3092$k$\u306b\u5bfe\u3057\u3066\u30d7\u30ed\u30c3\u30c8\u3057\u3001$\\delta$\u3092\u6c42\u3081\u3088\u3002$b_{k}$\u306e\u8868(1)\u306b\u4e0e\u3048\u3089\u308c\u305f\u5024\u306e\u6841\u6570\u306f\u3069\u306e$k$\u306b\u3064\u3044\u3066\u3082\u5341\u5206\u304b\u3002\u6700\u3082\u7cbe\u5ea6\u3088\u304f\u6c42\u3081\u3089\u308c\u3066\u3044\u308b$\\delta$\u306e\u5024\u306f\n",
      " \n",
      " \\begin{equation}\n",
      "  \\delta = 4.669\\ 201\\ 609\\ 102\\ 991 \\cdots\n",
      "  \\label{eq:e2}\n",
      " \\end{equation}\n",
      "\n",
      " \u3067\u3042\u308b\u3002\u5f0f(\\ref{eq:e2})\u306e\u5c0f\u6570\u70b9\u4ee5\u4e0b\u306e\u6841\u306f\u3001$\\delta$\u304c\u9ad8\u3044\u7cbe\u5ea6\u3067\u6c42\u3081\u3089\u308c\u3066\u3044\u308b\u3053\u3068\u3092\u793a\u3057\u3066\u3044\u308b\u3002\u5f0f(\\ref{eq:e1})\u3001\u5f0f(\\ref{eq:e2})\u304a\u3088\u3073$b_{k}$\u306e\u5024\u3092\u4f7f\u3063\u3066$r_{\\infty}$\u306e\u5024\u3092\u6c42\u3081\u3088\u3002"
     ]
    },
    {
     "cell_type": "markdown",
     "metadata": {
      "internals": {
       "frag_helper": "fragment_end",
       "frag_number": 6,
       "slide_type": "subslide"
      },
      "slideshow": {
       "slide_type": "subslide"
      }
     },
     "source": [
      "\u307e\u305a\u3001$\\delta_{k}=(b_{k}-b_{k-1})/(b_{k+1}-b_{k})$\u3092$k$\u306b\u5bfe\u3057\u3066\u30d7\u30ed\u30c3\u30c8\u3057\u305f\u3002\u3053\u3053\u3067\u5358\u7d14\u306b\u5168\u4f53\u306e\u76f8\u52a0\u5e73\u5747\u3092\u6c42\u3081\u3001\u305d\u306e\u7d50\u679c\u3092\u76f4\u7dda\u306b\u3057\u3066\u30b0\u30e9\u30d5\u306b\u63cf\u3044\u305f\u3002"
     ]
    },
    {
     "cell_type": "code",
     "collapsed": false,
     "input": [
      "%matplotlib inline\n",
      "import matplotlib.pylab as plt\n",
      "import numpy\n",
      "\n",
      "b = [0.750000, 0.862372, 0.886023, 0.891102,\n",
      "     0.892190, 0.892423, 0.892473, 0.892484]\n",
      "#      b1         b2        b3        b4\n",
      "#      b5         b6        b7        b8\n",
      "\n",
      "def delta(k):\n",
      "    return (b[k - 1] - b[k - 2]) / (b[k] - b[k - 1])\n",
      "\n",
      "plt.gca().set_xlim(1.5, len(b) - 0.5)\n",
      "plt.xlabel(r'$k$')\n",
      "plt.ylabel(r'$\\delta_{k}$')\n",
      "plt.title('Feigenbaum constant')\n",
      "sum_delta_k = 0\n",
      "\n",
      "for k in range(2, len(b)):\n",
      "    plt.scatter(k, delta(k), color='r', s=8, marker='o')\n",
      "    sum_delta_k = sum_delta_k + delta(k)\n",
      "\n",
      "ave_delta_k = sum_delta_k / 6\n",
      "\n",
      "plt.plot([2, len(b) - 1], [ave_delta_k] * 2,\n",
      "         label=r'$\\mathrm{average}\\ \\mathrm{of}\\ \\delta_{k}\\ :\\ \\delta \\ =\\ $'\n",
      "         + str(ave_delta_k)\n",
      "         )\n",
      "\n",
      "plt.legend(loc=\"best\")\n",
      "plt.show()"
     ],
     "language": "python",
     "metadata": {
      "internals": {
       "frag_helper": "fragment_end",
       "frag_number": 6
      },
      "slideshow": {
       "slide_type": "-"
      }
     },
     "outputs": [
      {
       "metadata": {},
       "output_type": "display_data",
       "png": "[encoded data removed]",
       "text": [
        "<matplotlib.figure.Figure at 0x7f0edb75b150>"
       ]
      }
     ],
     "prompt_number": 5
    },
    {
     "cell_type": "markdown",
     "metadata": {
      "internals": {
       "frag_helper": "fragment_end",
       "frag_number": 9,
       "slide_helper": "subslide_end"
      },
      "slide_helper": "subslide_end",
      "slideshow": {
       "slide_type": "fragment"
      }
     },
     "source": [
      "\u8868(1)\u306b\u4e0e\u3048\u3089\u308c\u305f$b_{k}$\u306e\u6841\u6570\u306b\u3064\u3044\u3066\u3001$b_{k}$\u306e\u9593\u9694\u304c$k$\u304c\u5927\u304d\u304f\u306a\u308b\u306b\u3064\u308c\u3066\u6e1b\u5c11\u3057\u3066\u3044\u304f\u3053\u3068\u3092\u8003\u3048\u308b\u3068\u3001$b_{8}$\u306e\u6841\u6570\u306a\u3069\u306f\u5341\u5206\u3067\u3042\u308b\u3068\u306f\u8a00\u3048\u306a\u3044\u3060\u308d\u3046\u3002\u5b9f\u969b\u3001\u5e73\u5747\u5024\u3068\u3057\u3066\u5f97\u3089\u308c\u305f$\\delta$\u304c\u3001\u7cbe\u5ea6\u3088\u304f\u6c42\u3081\u3089\u308c\u3066\u3044\u308b$\\delta$\u306e\u5024\u306b\u8fd1\u3044\u306e\u306b\u5bfe\u3057\u3066\u3001\u672c\u6765$k$\u304c\u5927\u304d\u3044\u3068\u3053\u308d\u3067\u306f\u53ce\u675f\u3059\u308b\u306f\u305a\u306e$\\delta_{k}$\u304c\u3001\u305d\u3053\u304b\u3089\u305a\u308c\u305f\u5024\u3068\u306a\u3063\u3066\u3044\u308b\u3053\u3068\u3082\u3001$b_{8}$\u306a\u3069\u306e\u6841\u6570\u304c\u4e0d\u8db3\u3057\u3066\u3044\u308b\u3053\u3068\u3092\u8868\u3057\u3066\u3044\u308b\u3068\u8a00\u3048\u308b\u3002"
     ]
    },
    {
     "cell_type": "markdown",
     "metadata": {
      "internals": {
       "frag_helper": "fragment_end",
       "frag_number": 9,
       "slide_type": "subslide"
      },
      "slideshow": {
       "slide_type": "subslide"
      }
     },
     "source": [
      "\u6b21\u306b\u3001\u6700\u5c0f2\u4e57\u6cd5\u306b\u3088\u308a\u5f0f(1)\u306b\u304a\u3051\u308b\u30d1\u30e9\u30e1\u30fc\u30bf$c$\u3001$r_{\\infty}$\u3092\u6c42\u3081\u305f\u3002"
     ]
    },
    {
     "cell_type": "code",
     "collapsed": false,
     "input": [
      "import scipy.optimize as optimize\n",
      "from numpy import *\n",
      "\n",
      "delta = 4.669201609102991\n",
      "b=[0.750000, 0.862372, 0.886023, 0.891102,\n",
      "    0.892190, 0.892423, 0.892473, 0.892484]\n",
      "k = range(1, len(b)+1)\n",
      "#b = [0.886023, 0.891102, 0.892190, 0.892423]\n",
      "#k = range(3, 7)\n",
      "parameter0 = [1.0, 1.0]  # c, r_m\u3000\u521d\u671f\u5024\n",
      "\n",
      "def fit_func(parameter0, k, b):\n",
      "    c = parameter0[0]\n",
      "    r_infinity = parameter0[1]\n",
      "    residual = b - (r_infinity - c * delta ** (-k))\n",
      "    return residual\n",
      "\n",
      "result = optimize.leastsq(fit_func, parameter0, args=(array(k), array(b)))\n",
      "\n",
      "print 'c =', result[0][0]\n",
      "print 'r_infinity =', result[0][1]"
     ],
     "language": "python",
     "metadata": {
      "internals": {
       "frag_helper": "fragment_end",
       "frag_number": 9
      },
      "slideshow": {
       "slide_type": "-"
      }
     },
     "outputs": [
      {
       "output_type": "stream",
       "stream": "stdout",
       "text": [
        "c = 0.665237682254\n",
        "r_infinity = 0.892546164091\n"
       ]
      }
     ],
     "prompt_number": 4
    },
    {
     "cell_type": "markdown",
     "metadata": {
      "internals": {
       "frag_helper": "fragment_end",
       "frag_number": 12,
       "slide_helper": "subslide_end"
      },
      "slide_helper": "slide_end",
      "slideshow": {
       "slide_type": "fragment"
      }
     },
     "source": [
      "\u3053\u3053\u3067\u3001\u5f97\u3089\u308c\u305f\u5024$r_{\\infty}=0.892 546 164 091$\u306f\u975e\u5e38\u306b\u6b63\u78ba\u306b\u8abf\u3079\u3089\u308c\u3066\u3044\u3066\u3001\u305d\u306e\u5024\u306f$r_{\\infty}=0.892 486 417 967 \\cdots$\u3067\u3042\u308b\u3002\u3059\u306a\u308f\u3061\u3001\u5f97\u3089\u308c\u305f$r_{\\infty}$\u306f\u3088\u304f\u77e5\u3089\u308c\u3066\u3044\u308b\u5024\u306b\u5bfe\u3057\u3066\u308f\u305a\u304b\u7d040.007\uff05\u306e\u8aa4\u5dee\u3067\u7cbe\u5ea6\u3088\u304f\u6c42\u3081\u308b\u3053\u3068\u304c\u3067\u304d\u3066\u3044\u308b\u3053\u3068\u304c\u308f\u304b\u308b\u3002"
     ]
    },
    {
     "cell_type": "heading",
     "level": 2,
     "metadata": {
      "internals": {
       "frag_helper": "fragment_end",
       "frag_number": 12,
       "slide_type": "subslide"
      },
      "slideshow": {
       "slide_type": "slide"
      }
     },
     "source": [
      "\u307e\u3068\u3081"
     ]
    },
    {
     "cell_type": "markdown",
     "metadata": {
      "internals": {
       "frag_helper": "fragment_end",
       "frag_number": 14,
       "slide_helper": "subslide_end"
      },
      "slide_helper": "slide_end",
      "slideshow": {
       "slide_type": "fragment"
      }
     },
     "source": [
      "\u30d5\u30a1\u30a4\u30b2\u30f3\u30d0\u30a6\u30e0\u5b9a\u6570\u306e\u7b97\u51fa\u3092\u884c\u3044\u3001\u305d\u306e\u666e\u904d\u7684\u6027\u8cea\u3078\u306e\u7406\u89e3\u3092\u6df1\u3081\u308b\u3053\u3068\u304c\u3067\u304d\u305f\u3002"
     ]
    },
    {
     "cell_type": "heading",
     "level": 2,
     "metadata": {
      "internals": {
       "frag_helper": "fragment_end",
       "frag_number": 14,
       "slide_type": "subslide"
      },
      "slideshow": {
       "slide_type": "slide"
      }
     },
     "source": [
      "\u53c2\u8003\u6587\u732e"
     ]
    },
    {
     "cell_type": "markdown",
     "metadata": {
      "internals": {
       "frag_helper": "fragment_end",
       "frag_number": 16,
       "slide_helper": "subslide_end"
      },
      "slide_helper": "slide_end",
      "slideshow": {
       "slide_type": "fragment"
      }
     },
     "source": [
      "- \u30cf\u30fc\u30d9\u30a4\u30fb\u30b4\u30fc\u30eb\u30c9,\u30b8\u30e3\u30f3\u30fb\u30c8\u30dc\u30c1\u30cb\u30af,\u77f3\u5ddd\u6b63\u52dd\u30fb\u5bae\u5cf6\u4f50\u4ecb\u8a33\u300e\u8a08\u7b97\u7269\u7406\u5b66\u5165\u9580\u300f,\u30d4\u30a2\u30bd\u30f3\u30fb\u30a8\u30c7\u30e5\u30b1\u30fc\u30b7\u30e7\u30f3, 2000."
     ]
    }
   ],
   "metadata": {}
  }
 ]
}